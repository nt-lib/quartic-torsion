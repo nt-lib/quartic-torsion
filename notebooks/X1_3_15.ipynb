{
 "cells": [
  {
   "cell_type": "code",
   "execution_count": 3,
   "id": "012a51a3",
   "metadata": {},
   "outputs": [],
   "source": [
    "from mdsage import *\n",
    "from mdsage.maartens_sage_functions import *"
   ]
  },
  {
   "cell_type": "code",
   "execution_count": 4,
   "id": "bf4e9a2a",
   "metadata": {},
   "outputs": [],
   "source": [
    "G = Gamma11(3,5)"
   ]
  },
  {
   "cell_type": "code",
   "execution_count": 9,
   "id": "cff51ffe",
   "metadata": {},
   "outputs": [],
   "source": [
    "U,C = modular_unit_lattice(G, return_ambient=True, ambient_degree_zero=True)"
   ]
  },
  {
   "cell_type": "code",
   "execution_count": 10,
   "id": "d96febbf",
   "metadata": {},
   "outputs": [
    {
     "data": {
      "text/plain": [
       "Finitely generated module V/W over Integer Ring with invariants (3, 3, 3, 3, 6, 12, 12, 48, 96, 96)"
      ]
     },
     "execution_count": 10,
     "metadata": {},
     "output_type": "execute_result"
    }
   ],
   "source": [
    "C/U"
   ]
  },
  {
   "cell_type": "code",
   "execution_count": null,
   "id": "01f0591b",
   "metadata": {},
   "outputs": [],
   "source": []
  }
 ],
 "metadata": {
  "kernelspec": {
   "display_name": "SageMath 9.7",
   "language": "sage",
   "name": "sagemath-9.7"
  },
  "language_info": {
   "codemirror_mode": {
    "name": "ipython",
    "version": 3
   },
   "file_extension": ".py",
   "mimetype": "text/x-python",
   "name": "python",
   "nbconvert_exporter": "python",
   "pygments_lexer": "ipython3",
   "version": "3.10.5"
  }
 },
 "nbformat": 4,
 "nbformat_minor": 5
}
